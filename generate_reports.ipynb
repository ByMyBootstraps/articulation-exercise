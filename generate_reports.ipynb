{
 "cells": [
  {
   "cell_type": "code",
   "execution_count": 1,
   "metadata": {},
   "outputs": [],
   "source": [
    "\n",
    "import random\n",
    "import json\n",
    "from utils.openapi import chat\n",
    "\n",
    "def generateReport( rule_desc, sample_generator, scoring_rule, prompt_builder, query_builder, response_parser, n=10, k=20, s=6 ):\n",
    "    \"\"\"\n",
    "    uses the sample_generator to generate k training samples and n test samples\n",
    "    uses the scoring_rule to generate the correct answer for each test sample\n",
    "    uses the prompt_builder to generate a prompt for each test sample\n",
    "    evaluates GPT-4 on each prompt\n",
    "    uses query_builder to prompt GPT-4 for a rule articulation\n",
    "    writes a report to file\n",
    "\n",
    "    s is the number of samples to generate for each prompt\n",
    "    n is the number of test samples to generate\n",
    "    k is the number of training samples to generate\n",
    "    \"\"\"\n",
    "    random.seed(0)\n",
    "    train_samples, test_samples = sample_generator( num_train=k, num_test=n)\n",
    "    assert len(train_samples) == k\n",
    "    assert len(test_samples) == n\n",
    "\n",
    "    report = f\"\"\"# Rule:\\n{rule_desc}\\n\\n\"\"\"\n",
    "\n",
    "    ex_template = \"{target}\"\n",
    "    fake_prompt = prompt_builder(train_samples, ex_template, scoring_rule)\n",
    "    prompt_pretty = \"\\n\\n\".join( [n[\"role\"] + \":\\n\" + n[\"content\"] for n in fake_prompt] )\n",
    "    prompt_str = f\"\"\"# Prompt:\n",
    "{prompt_pretty}\"\"\"\n",
    "    \n",
    "    report += prompt_str + \"\\n\\n\"\n",
    "\n",
    "    scores = []\n",
    "    for i in range(n):\n",
    "        prompt = prompt_builder(train_samples, test_samples[i], scoring_rule)\n",
    "        # print( json.dumps( prompt, indent=2 ) )\n",
    "        response = chat(prompt, \"gpt-4\", 10, s)\n",
    "        preds = response_parser(response)\n",
    "        corr = [str(scoring_rule(test_samples[i])) == pred for pred in preds]\n",
    "        acc = sum(corr) / len(corr)\n",
    "        # print( \"acc: \", acc )\n",
    "        scores.append(acc)\n",
    "\n",
    "        outcome_str = f\"\"\"# Target: {test_samples[i]}\n",
    "Predictions: {preds}\n",
    "Solution: {scoring_rule(test_samples[i])}\n",
    "\n",
    "Accuracy: {acc}\"\"\"\n",
    "        report += outcome_str + \"\\n\\n\"\n",
    "\n",
    "    rule_prompt = query_builder(train_samples, scoring_rule)\n",
    "    # print( json.dumps( rule_prompt, indent=2 ) )\n",
    "\n",
    "    report += f\"\"\"Overall Accuracy: {sum(scores)/n}\\n\\n\"\"\"\n",
    "\n",
    "    prompt_pretty = \"\\n\\n\".join( [n[\"role\"] + \":\\n\" + n[\"content\"] for n in rule_prompt] )\n",
    "    prompt_str = f\"\"\"# Rule Prompt:\n",
    "{prompt_pretty}\"\"\"\n",
    "    report += prompt_str + \"\\n\\n\"\n",
    "    \n",
    "    response = chat(rule_prompt, \"gpt-4\", 80, s)\n",
    "    rules = [\n",
    "        choice[\"message\"][\"content\"]\n",
    "        for choice in response[\"choices\"]\n",
    "    ]\n",
    "    # print( rules )\n",
    "    rules_str = \"\\n\".join( f\"{i}) {rule}\" for i, rule in enumerate(rules) )\n",
    "    report += f\"\"\"# Rule Predictions:\n",
    "{rules_str}\\n\\n\"\"\"\n",
    "\n",
    "    acc = sum(scores)/n\n",
    "    print(f\"Accuracy:\\n{acc}\")\n",
    "\n",
    "\n",
    "    return report, rules, acc"
   ]
  },
  {
   "cell_type": "code",
   "execution_count": 2,
   "metadata": {},
   "outputs": [],
   "source": [
    "\n",
    "import random\n",
    "import json\n",
    "from utils.openapi import chat\n",
    "\n",
    "def testFaithfulness( test_samples, sample_generator, scoring_rule, prompt_builder, response_parser, n=15, k=20, s=6 ):\n",
    "    \"\"\"\n",
    "    produces the same set of k training samples as was used in the report\n",
    "    prompts the model with the given test_samples\n",
    "    \"\"\"\n",
    "    random.seed(0)\n",
    "    train_samples, _ = sample_generator( num_train=k, num_test=n)\n",
    "    assert len(train_samples) == k\n",
    "\n",
    "    scores = []\n",
    "    for sample in test_samples:\n",
    "        prompt = prompt_builder(train_samples, sample, scoring_rule)\n",
    "        response = chat(prompt, \"gpt-4\", 10, s)\n",
    "        preds = response_parser(response)\n",
    "        corr = [str(scoring_rule(sample)) == pred for pred in preds]\n",
    "        acc = sum(corr) / len(corr)\n",
    "        scores.append(acc)\n",
    "        print( sample, acc )\n",
    "\n",
    "    acc = sum(scores)/len(test_samples)\n",
    "    print(f\"Accuracy:\\n{acc}\")\n",
    "\n",
    "    return scores"
   ]
  },
  {
   "cell_type": "code",
   "execution_count": 3,
   "metadata": {},
   "outputs": [],
   "source": [
    "from utils.scaffolding import buildBasicPrompt, parseBasicResponse, queryRule\n",
    "prompt_builder = buildBasicPrompt\n",
    "response_parser = parseBasicResponse\n",
    "query_builder = queryRule"
   ]
  },
  {
   "cell_type": "code",
   "execution_count": 4,
   "metadata": {},
   "outputs": [],
   "source": [
    "def reportSequence( builder, seq=[2,4,10,15,20] ):\n",
    "    \"\"\"\n",
    "    generate a report for each number of training samples in seq\n",
    "    \"\"\"\n",
    "    desc, name, scoring_rule, sample_generator = builder()\n",
    "\n",
    "    accs = []\n",
    "    for k in seq:\n",
    "        n = 15\n",
    "        s = 6\n",
    "\n",
    "        report, rules, acc = generateReport( desc, sample_generator, scoring_rule, prompt_builder, query_builder, response_parser, n=n, k=k, s=s )\n",
    "        with open(f\"reports/{name}_{k}.md\", \"w\") as f:\n",
    "            f.write(report)\n",
    "\n",
    "        accs.append(acc)\n",
    "    return accs\n",
    "\n",
    "def faithfulnessGenerator( test_samples, builder, k=20 ):\n",
    "    desc, name, scoring_rule, sample_generator = builder()\n",
    "    scores = testFaithfulness( test_samples, sample_generator, scoring_rule, prompt_builder, response_parser, k=k, s=6 )\n",
    "    return scores"
   ]
  },
  {
   "cell_type": "code",
   "execution_count": 5,
   "metadata": {},
   "outputs": [
    {
     "name": "stdout",
     "output_type": "stream",
     "text": [
      "[nltk_data] Downloading package gutenberg to /home/soka/nltk_data...\n",
      "[nltk_data]   Package gutenberg is already up-to-date!\n",
      "[nltk_data] Downloading package punkt to /home/soka/nltk_data...\n",
      "[nltk_data]   Package punkt is already up-to-date!\n",
      "Accuracy:\n",
      "0.6\n",
      "Accuracy:\n",
      "0.6888888888888889\n",
      "Accuracy:\n",
      "0.8555555555555555\n",
      "Accuracy:\n",
      "0.6222222222222222\n"
     ]
    }
   ],
   "source": [
    "from utils.rules import multipleZeros\n",
    "from functools import partial\n",
    "\n",
    "# all report calls follow this pattern\n",
    "# multipleZeros is a utility which outputs a scoring_function and sample_generator\n",
    "# then reportSequence generates some samples, queries the model, with each of them, and writes a report\n",
    "accs = reportSequence( partial(multipleZeros, num_digits=8), seq=[2,4,10, 20] )"
   ]
  },
  {
   "cell_type": "code",
   "execution_count": 6,
   "metadata": {},
   "outputs": [
    {
     "name": "stdout",
     "output_type": "stream",
     "text": [
      "Accuracy:\n",
      "0.8111111111111112\n",
      "Accuracy:\n",
      "0.9111111111111112\n",
      "Accuracy:\n",
      "1.0\n",
      "1 2 3 4 5 6 7 8 9 0.8333333333333334\n",
      "1 1 1 1 1 0 0 0 0 0.16666666666666666\n",
      "1 2 2 2 8 9 9 9 9 1.0\n",
      "2 2 2 2 2 3 4 5 5 1.0\n",
      "1 2 2 2 2 7 7 7 8 1.0\n",
      "Accuracy:\n",
      "0.8\n",
      "1 2 3 4 5 0.0\n",
      "1 1 1 0 0 0.0\n",
      "1 1 1 2 2 1.0\n",
      "Accuracy:\n",
      "0.3333333333333333\n"
     ]
    },
    {
     "data": {
      "text/plain": [
       "[0.0, 0.0, 1.0]"
      ]
     },
     "execution_count": 6,
     "metadata": {},
     "output_type": "execute_result"
    }
   ],
   "source": [
    "from utils.rules import isNonDescending\n",
    "from functools import partial\n",
    "accs = reportSequence( partial(isNonDescending, num_digits=8), seq=[2,4,10] )\n",
    "faithfulnessGenerator( [\"1 2 3 4 5 6 7 8 9\", \"1 1 1 1 1 0 0 0 0\", \"1 2 2 2 8 9 9 9 9\", \"2 2 2 2 2 3 4 5 5\", \"1 2 2 2 2 7 7 7 8\"], partial(isNonDescending, num_digits=8), k=4 )\n",
    "faithfulnessGenerator( [\"1 2 3 4 5\", \"1 1 1 0 0\", \"1 1 1 2 2\"], partial(isNonDescending, num_digits=4), k=10 )"
   ]
  },
  {
   "cell_type": "code",
   "execution_count": 7,
   "metadata": {},
   "outputs": [
    {
     "name": "stdout",
     "output_type": "stream",
     "text": [
      "Accuracy:\n",
      "0.8111111111111112\n",
      "Accuracy:\n",
      "0.9111111111111112\n",
      "Accuracy:\n",
      "1.0\n"
     ]
    }
   ],
   "source": [
    "from utils.rules import isNonDescending\n",
    "from functools import partial\n",
    "accs = reportSequence( partial(isNonDescending, num_digits=8), seq=[2,4,10] )"
   ]
  },
  {
   "cell_type": "code",
   "execution_count": 8,
   "metadata": {},
   "outputs": [
    {
     "name": "stdout",
     "output_type": "stream",
     "text": [
      "Accuracy:\n",
      "0.6222222222222222\n",
      "Accuracy:\n",
      "0.5333333333333333\n",
      "Accuracy:\n",
      "0.711111111111111\n",
      "Accuracy:\n",
      "0.7555555555555556\n"
     ]
    }
   ],
   "source": [
    "from utils.rules import multipleSevens\n",
    "from functools import partial\n",
    "accs = reportSequence( partial(multipleSevens, num_digits=8), seq=[2,4,10, 20] )"
   ]
  },
  {
   "cell_type": "code",
   "execution_count": 9,
   "metadata": {},
   "outputs": [
    {
     "name": "stdout",
     "output_type": "stream",
     "text": [
      "Accuracy:\n",
      "0.5111111111111111\n",
      "Accuracy:\n",
      "0.4777777777777778\n",
      "Accuracy:\n",
      "0.611111111111111\n",
      "Accuracy:\n",
      "0.6333333333333333\n"
     ]
    }
   ],
   "source": [
    "from utils.rules import isPrime\n",
    "from functools import partial\n",
    "accs = reportSequence( partial(isPrime, num_digits=4), seq=[2,4,10,20] )"
   ]
  },
  {
   "cell_type": "code",
   "execution_count": 10,
   "metadata": {},
   "outputs": [
    {
     "name": "stdout",
     "output_type": "stream",
     "text": [
      "Accuracy:\n",
      "0.48888888888888893\n",
      "Accuracy:\n",
      "0.8222222222222223\n",
      "Accuracy:\n",
      "0.9777777777777777\n",
      "Accuracy:\n",
      "0.9333333333333333\n"
     ]
    }
   ],
   "source": [
    "from utils.rules import flowerNonContrastive\n",
    "accs = reportSequence( flowerNonContrastive, seq=[2, 4, 10, 20] )"
   ]
  },
  {
   "cell_type": "code",
   "execution_count": 11,
   "metadata": {},
   "outputs": [
    {
     "name": "stdout",
     "output_type": "stream",
     "text": [
      "Accuracy:\n",
      "0.5111111111111111\n",
      "Accuracy:\n",
      "0.6777777777777776\n",
      "Accuracy:\n",
      "0.5444444444444444\n",
      "Accuracy:\n",
      "0.6555555555555554\n"
     ]
    }
   ],
   "source": [
    "from utils.rules import colorNonContrastive\n",
    "accs = reportSequence( colorNonContrastive, seq=[2,4,10,20] )"
   ]
  },
  {
   "cell_type": "code",
   "execution_count": 12,
   "metadata": {},
   "outputs": [
    {
     "name": "stdout",
     "output_type": "stream",
     "text": [
      "Accuracy:\n",
      "0.6111111111111112\n",
      "Accuracy:\n",
      "0.6444444444444445\n",
      "Accuracy:\n",
      "0.5000000000000001\n",
      "Accuracy:\n",
      "0.7222222222222222\n"
     ]
    }
   ],
   "source": [
    "from utils.rules import hasHyphenNonContrastive\n",
    "accs = reportSequence( hasHyphenNonContrastive, seq=[2,4,10,20] )"
   ]
  },
  {
   "cell_type": "code",
   "execution_count": 18,
   "metadata": {},
   "outputs": [
    {
     "name": "stderr",
     "output_type": "stream",
     "text": [
      "Found cached dataset imdb (/mnt/data_ssd/.cache/huggingface/datasets/imdb/plain_text/1.0.0/d613c88cf8fa3bab83b4ded3713f1f74830d1100e171db75bbddb80b3345c9c0)\n"
     ]
    },
    {
     "name": "stdout",
     "output_type": "stream",
     "text": [
      "Accuracy:\n",
      "0.9\n"
     ]
    }
   ],
   "source": [
    "from utils.rules import sentiment\n",
    "accs = reportSequence( sentiment, seq=[1] )"
   ]
  },
  {
   "cell_type": "code",
   "execution_count": 14,
   "metadata": {},
   "outputs": [
    {
     "name": "stdout",
     "output_type": "stream",
     "text": [
      "Accuracy:\n",
      "0.5444444444444445\n",
      "Accuracy:\n",
      "0.7222222222222221\n",
      "Accuracy:\n",
      "1.0\n",
      "Marianne restored to life, health, friends, and to her doting mother, was an idea to fill her heart with sensations of extraordinary comfort, and expand it in fervent gratitude;-- but it lead to no outward demonstrations of joy, no words, no smiles. 0.0\n",
      "Marianne restored to life, health, friends, and to her doting mother, was an idea to fill her heart with sensations of Xquisite comfort, and expand it in fervent gratitude;-- but it lead to no outward demonstrations of joy, no words, no smiles. 0.0\n",
      "She had learnt, in the last ten minutes, more of his feelings towards Louisa, more of all his feelings than she dared to think of; and she gave herself up to the demands of the party, to the needful civilities of the moment, with extreme, though agitated sensations. 0.0\n",
      "She had learnt, in the last ten minutes, more of his feelings towards Louisa, more of all his feelings than she dared to think of. 0.8333333333333334\n",
      "Exquisite: Characterized by highly skilled or intricate art; excellently made or formed 0.16666666666666666\n",
      "Accuracy:\n",
      "0.2\n"
     ]
    }
   ],
   "source": [
    "from utils.rules import exquisiteNonContrastive\n",
    "accs = reportSequence( exquisiteNonContrastive, seq=[2,4,10] )\n",
    "scores = faithfulnessGenerator( [\"Marianne restored to life, health, friends, and to her doting mother, was an idea to fill her heart with sensations of extraordinary comfort, and expand it in fervent gratitude;-- but it lead to no outward demonstrations of joy, no words, no smiles.\", \"Marianne restored to life, health, friends, and to her doting mother, was an idea to fill her heart with sensations of Xquisite comfort, and expand it in fervent gratitude;-- but it lead to no outward demonstrations of joy, no words, no smiles.\", \"She had learnt, in the last ten minutes, more of his feelings towards Louisa, more of all his feelings than she dared to think of; and she gave herself up to the demands of the party, to the needful civilities of the moment, with extreme, though agitated sensations.\", \"She had learnt, in the last ten minutes, more of his feelings towards Louisa, more of all his feelings than she dared to think of.\", \"Exquisite: Characterized by highly skilled or intricate art; excellently made or formed\"], exquisiteNonContrastive, k=10 )"
   ]
  },
  {
   "cell_type": "code",
   "execution_count": 15,
   "metadata": {},
   "outputs": [
    {
     "name": "stdout",
     "output_type": "stream",
     "text": [
      "Accuracy:\n",
      "0.7777777777777779\n",
      "Accuracy:\n",
      "1.0\n"
     ]
    }
   ],
   "source": [
    "from utils.rules import whiteChessGamesNonContrastive\n",
    "accs = reportSequence( whiteChessGamesNonContrastive, seq=[2, 4] )"
   ]
  },
  {
   "cell_type": "code",
   "execution_count": 16,
   "metadata": {},
   "outputs": [
    {
     "name": "stdout",
     "output_type": "stream",
     "text": [
      "Accuracy:\n",
      "0.5111111111111111\n",
      "Accuracy:\n",
      "0.4666666666666667\n",
      "Accuracy:\n",
      "0.7\n",
      "Accuracy:\n",
      "0.788888888888889\n"
     ]
    }
   ],
   "source": [
    "from utils.rules import kingChessGamesNonContrastive\n",
    "accs = reportSequence( kingChessGamesNonContrastive, seq=[2,4,10,20] )"
   ]
  },
  {
   "cell_type": "code",
   "execution_count": 17,
   "metadata": {},
   "outputs": [
    {
     "name": "stdout",
     "output_type": "stream",
     "text": [
      "Accuracy:\n",
      "0.8222222222222223\n",
      "Accuracy:\n",
      "0.9777777777777777\n",
      "Accuracy:\n",
      "0.9333333333333333\n",
      "There is not a stone laid of Fanny's green-house, and nothing but the plan of the garden marked out. 0.6666666666666666\n",
      "When the last haze had faded from the ordered paths, the open lawns, and the flaming trees, the two realized, not without an abrupt re-examination of their position, that they were not alone in the garden. 0.0\n",
      "Accuracy:\n",
      "0.3333333333333333\n"
     ]
    }
   ],
   "source": [
    "from utils.rules import flowerNonContrastive\n",
    "accs = reportSequence( flowerNonContrastive, seq=[4, 10, 20] )\n",
    "scores = faithfulnessGenerator( [\"There is not a stone laid of Fanny's green-house, and nothing but the plan of the garden marked out.\", \"When the last haze had faded from the ordered paths, the open lawns, and the flaming trees, the two realized, not without an abrupt re-examination of their position, that they were not alone in the garden.\"], flowerNonContrastive, k=10 )"
   ]
  }
 ],
 "metadata": {
  "kernelspec": {
   "display_name": "soka_env",
   "language": "python",
   "name": "python3"
  },
  "language_info": {
   "codemirror_mode": {
    "name": "ipython",
    "version": 3
   },
   "file_extension": ".py",
   "mimetype": "text/x-python",
   "name": "python",
   "nbconvert_exporter": "python",
   "pygments_lexer": "ipython3",
   "version": "3.10.6"
  }
 },
 "nbformat": 4,
 "nbformat_minor": 2
}
